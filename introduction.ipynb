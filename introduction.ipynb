{
 "cells": [
  {
   "cell_type": "markdown",
   "id": "0fb38d15",
   "metadata": {},
   "source": [
    "# Introduction"
   ]
  },
  {
   "cell_type": "markdown",
   "id": "50e01216",
   "metadata": {},
   "source": [
    "The human body faces astronomical physiological challenges when exposed to microgravity for long periods of time, such as muscle atrophy, bone density loss, and cardiovascular deconditioning. To reduce these affects, the team of Ad Astra Per Aspera (ASPA) is researching components, Subsections and subsystems of a rotating space station with would generate centrifugal force, creating gravity artificially. By doing this, these affects that microgravity have can be reduced and so Astronauts will be able to spend much longer periods of time in space. The challenges faced in designing the rotating space station concept are mostly due to the integration of the following subsections.\n",
    "\n",
    "A key consideration is the protection (structural shielding) from both debris and solar radiation and in additional to thermal regulation. This subsection of the overall project is to create solutions to these problems and to ensure that the station can provide a habitable and safe environment for the crew on board. On the structural design of the rotating space station and the challenges faced, the design must have a large enough radius to generate the desired artificial gravity while being having enough structural integrity to withstand the stress that rotating motion in space causes. The design material selection is important because the station should be light enough to rotate easily but strong enough to withstand mechanical loads.\n",
    "\n",
    "This space station is intended to host live humans, and so must have a constant minimum supply of power to keep life support systems always running. The space station must also be as self-reliant as possible and so cannot rely constant refuelling from earth or other locations. The team will be exploring the concerns with the orientation of solar panels and as an extension, the communication antennas and telescopes. Management of the orbit and rotation of the station through propulsion would be handled by the Attitude and Orbital Control System (AOCS). Integration of each subsection is a necessity when building an advanced technical structure that is the rotating space station. Some of the key elements includes the Attitude and orbital Control System, Structural design, Thermal protection and Shielding, Power, and Life support, which each member will consider in their research."
   ]
  },
  {
   "cell_type": "markdown",
   "id": "03b1cae8",
   "metadata": {},
   "source": [
    "# Mission Statement"
   ]
  },
  {
   "cell_type": "markdown",
   "id": "02fb4eb5",
   "metadata": {},
   "source": [
    "Mitigating the physiological effects of long-term space habitation through the design of a rotating space station to simulate artificial gravity.\n"
   ]
  }
 ],
 "metadata": {
  "kernelspec": {
   "display_name": "Python 3 (ipykernel)",
   "language": "python",
   "name": "python3"
  },
  "language_info": {
   "codemirror_mode": {
    "name": "ipython",
    "version": 3
   },
   "file_extension": ".py",
   "mimetype": "text/x-python",
   "name": "python",
   "nbconvert_exporter": "python",
   "pygments_lexer": "ipython3",
   "version": "3.7.10"
  }
 },
 "nbformat": 4,
 "nbformat_minor": 5
}
